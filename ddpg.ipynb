{
 "cells": [
  {
   "cell_type": "code",
   "execution_count": 1,
   "metadata": {},
   "outputs": [],
   "source": [
    "from env import CropEnv, nebraska_maize_config \n",
    "from utils import calc_eto_faopm "
   ]
  },
  {
   "cell_type": "code",
   "execution_count": 2,
   "metadata": {},
   "outputs": [],
   "source": [
    "# TODO: what's different among the data? \n",
    "# TODO: how is the data generated? \n",
    "# TODO: how is the observation generated? "
   ]
  },
  {
   "cell_type": "code",
   "execution_count": 3,
   "metadata": {},
   "outputs": [
    {
     "data": {
      "text/html": [
       "<div>\n",
       "<style scoped>\n",
       "    .dataframe tbody tr th:only-of-type {\n",
       "        vertical-align: middle;\n",
       "    }\n",
       "\n",
       "    .dataframe tbody tr th {\n",
       "        vertical-align: top;\n",
       "    }\n",
       "\n",
       "    .dataframe thead th {\n",
       "        text-align: right;\n",
       "    }\n",
       "</style>\n",
       "<table border=\"1\" class=\"dataframe\">\n",
       "  <thead>\n",
       "    <tr style=\"text-align: right;\">\n",
       "      <th></th>\n",
       "      <th>simyear</th>\n",
       "      <th>MinTemp</th>\n",
       "      <th>MaxTemp</th>\n",
       "      <th>Precipitation</th>\n",
       "      <th>ReferenceET</th>\n",
       "      <th>Date</th>\n",
       "    </tr>\n",
       "  </thead>\n",
       "  <tbody>\n",
       "    <tr>\n",
       "      <th>0</th>\n",
       "      <td>1</td>\n",
       "      <td>9.6</td>\n",
       "      <td>14.0</td>\n",
       "      <td>0.0</td>\n",
       "      <td>1.972597</td>\n",
       "      <td>1995-01-01</td>\n",
       "    </tr>\n",
       "    <tr>\n",
       "      <th>1</th>\n",
       "      <td>1</td>\n",
       "      <td>1.9</td>\n",
       "      <td>21.5</td>\n",
       "      <td>0.0</td>\n",
       "      <td>3.407242</td>\n",
       "      <td>1995-01-02</td>\n",
       "    </tr>\n",
       "    <tr>\n",
       "      <th>2</th>\n",
       "      <td>1</td>\n",
       "      <td>1.2</td>\n",
       "      <td>17.0</td>\n",
       "      <td>0.0</td>\n",
       "      <td>2.815976</td>\n",
       "      <td>1995-01-03</td>\n",
       "    </tr>\n",
       "    <tr>\n",
       "      <th>3</th>\n",
       "      <td>1</td>\n",
       "      <td>-2.1</td>\n",
       "      <td>14.6</td>\n",
       "      <td>0.0</td>\n",
       "      <td>2.638889</td>\n",
       "      <td>1995-01-04</td>\n",
       "    </tr>\n",
       "    <tr>\n",
       "      <th>4</th>\n",
       "      <td>1</td>\n",
       "      <td>-3.0</td>\n",
       "      <td>16.6</td>\n",
       "      <td>0.0</td>\n",
       "      <td>2.942874</td>\n",
       "      <td>1995-01-05</td>\n",
       "    </tr>\n",
       "  </tbody>\n",
       "</table>\n",
       "</div>"
      ],
      "text/plain": [
       "   simyear  MinTemp  MaxTemp  Precipitation  ReferenceET       Date\n",
       "0        1      9.6     14.0            0.0     1.972597 1995-01-01\n",
       "1        1      1.9     21.5            0.0     3.407242 1995-01-02\n",
       "2        1      1.2     17.0            0.0     2.815976 1995-01-03\n",
       "3        1     -2.1     14.6            0.0     2.638889 1995-01-04\n",
       "4        1     -3.0     16.6            0.0     2.942874 1995-01-05"
      ]
     },
     "execution_count": 3,
     "metadata": {},
     "output_type": "execute_result"
    }
   ],
   "source": [
    "gendf=calc_eto_faopm('data/CDWG.dat',1995,40.4,1072,True,[\"simyear\",\"jday\",\"minTemp\",\"maxTemp\",\"precip\",\"rad\"])\n",
    "gendf.head() "
   ]
  },
  {
   "cell_type": "code",
   "execution_count": 4,
   "metadata": {},
   "outputs": [],
   "source": [
    "config = nebraska_maize_config \n",
    "config['gendf'] = gendf \n",
    "env = CropEnv(config) "
   ]
  },
  {
   "cell_type": "code",
   "execution_count": 8,
   "metadata": {},
   "outputs": [
    {
     "name": "stdout",
     "output_type": "stream",
     "text": [
      "0 [2.000000e+00 5.000000e+00 3.000000e-01 1.000000e+00 0.000000e+00\n",
      " 0.000000e+00 0.000000e+00 1.000000e+04 0.000000e+00 6.070701e+00\n",
      " 0.000000e+00 6.070701e+00 0.000000e+00 6.070701e+00 1.000000e+00\n",
      " 0.000000e+00 0.000000e+00 0.000000e+00] 0.0 False\n",
      "1 [2.000000e+00 5.000000e+00 3.000000e-01 1.000000e+00 0.000000e+00\n",
      " 0.000000e+00 0.000000e+00 1.000000e+04 0.000000e+00 6.070701e+00\n",
      " 0.000000e+00 6.070701e+00 0.000000e+00 6.070701e+00 1.000000e+00\n",
      " 0.000000e+00 0.000000e+00 0.000000e+00] 0.0 False\n",
      "2 [2.000000e+00 5.000000e+00 3.000000e-01 1.000000e+00 0.000000e+00\n",
      " 0.000000e+00 0.000000e+00 1.000000e+04 0.000000e+00 6.070701e+00\n",
      " 0.000000e+00 6.070701e+00 0.000000e+00 6.070701e+00 1.000000e+00\n",
      " 0.000000e+00 0.000000e+00 0.000000e+00] 0.0 False\n"
     ]
    }
   ],
   "source": [
    "s = env.reset() \n",
    "\n",
    "for i in range(3):\n",
    "    s, r, d, _ = env.step(1) \n",
    "    print(i, s,r,d) \n",
    "    if d: break \n"
   ]
  },
  {
   "cell_type": "code",
   "execution_count": null,
   "metadata": {},
   "outputs": [
    {
     "data": {
      "text/plain": [
       "'05/01'"
      ]
     },
     "execution_count": 4,
     "metadata": {},
     "output_type": "execute_result"
    }
   ],
   "source": [
    "nebraska_maize_config['planting_date']"
   ]
  },
  {
   "cell_type": "code",
   "execution_count": null,
   "metadata": {},
   "outputs": [],
   "source": []
  }
 ],
 "metadata": {
  "kernelspec": {
   "display_name": "agri",
   "language": "python",
   "name": "python3"
  },
  "language_info": {
   "codemirror_mode": {
    "name": "ipython",
    "version": 3
   },
   "file_extension": ".py",
   "mimetype": "text/x-python",
   "name": "python",
   "nbconvert_exporter": "python",
   "pygments_lexer": "ipython3",
   "version": "3.10.14"
  }
 },
 "nbformat": 4,
 "nbformat_minor": 2
}
